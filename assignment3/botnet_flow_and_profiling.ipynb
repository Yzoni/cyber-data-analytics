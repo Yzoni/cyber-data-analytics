{
 "cells": [
  {
   "cell_type": "markdown",
   "metadata": {},
   "source": [
    "# Botnet flow and profiling"
   ]
  },
  {
   "cell_type": "code",
   "execution_count": 8,
   "metadata": {},
   "outputs": [],
   "source": [
    "# IMPORTS\"\n",
    "from pprint import pprint\n",
    "from collections import Counter\n",
    "import random\n",
    "import time\n",
    "from scipy import stats"
   ]
  },
  {
   "cell_type": "code",
   "execution_count": 12,
   "metadata": {},
   "outputs": [
    {
     "name": "stdout",
     "output_type": "stream",
     "text": [
      "{'bytes': 2,\n",
      " 'datetime': '2011-08-18 10:55:46.379',\n",
      " 'dst_ip': '147.32.80.9',\n",
      " 'dst_port': '52134',\n",
      " 'duration': '0.000',\n",
      " 'flows': '207',\n",
      " 'label': '1',\n",
      " 'packets': 0,\n",
      " 'protocol': 'UDP',\n",
      " 'src_ip': '147.32.85.25',\n",
      " 'src_port': '52134',\n",
      " 'tos': 'CON'}\n"
     ]
    }
   ],
   "source": [
    "scenario_10 = 'capture20110818.pcap.netflow.labeled'\n",
    "\n",
    "parsed = []\n",
    "with open('Data/{}'.format(scenario_10)) as f:                                \n",
    "    next(f) # Skip header\n",
    "    for idx, l in enumerate(f):\n",
    "        try:\n",
    "            split_l = list(filter(None, l.split('\\t')))\n",
    "\n",
    "            src = split_l[3].split(':')\n",
    "            dst = split_l[5].split(':')\n",
    "\n",
    "            parsed.append({\n",
    "                'datetime': split_l[0],\n",
    "                'duration': split_l[1],\n",
    "                'protocol': split_l[2],\n",
    "                'src_ip': src[0],\n",
    "                'src_port': '' if len(src) == 1 else src[1],\n",
    "                'dst_ip': dst[0],\n",
    "                'dst_port': '' if len(dst) == 1 else src[1],\n",
    "                'tos': split_l[6],\n",
    "                'packets': int(split_l[7]),\n",
    "                'bytes': int(split_l[8]),\n",
    "                'flows': split_l[9],\n",
    "                'label': split_l[10]\n",
    "            })\n",
    "\n",
    "        except Exception as e:\n",
    "            print(split_l)\n",
    "            print(idx)\n",
    "            raise\n",
    "    pprint(parsed[-1])\n"
   ]
  },
  {
   "cell_type": "code",
   "execution_count": null,
   "metadata": {},
   "outputs": [],
   "source": []
  }
 ],
 "metadata": {
  "kernelspec": {
   "display_name": "Python 3",
   "language": "python",
   "name": "python3"
  },
  "language_info": {
   "codemirror_mode": {
    "name": "ipython",
    "version": 3
   },
   "file_extension": ".py",
   "mimetype": "text/x-python",
   "name": "python",
   "nbconvert_exporter": "python",
   "pygments_lexer": "ipython3",
   "version": "3.6.5"
  }
 },
 "nbformat": 4,
 "nbformat_minor": 2
}
