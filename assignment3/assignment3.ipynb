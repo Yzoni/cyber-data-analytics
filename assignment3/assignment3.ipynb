{
 "cells": [
  {
   "cell_type": "code",
   "execution_count": 2,
   "metadata": {},
   "outputs": [],
   "source": [
    "import csv\n",
    "import random\n",
    "import sympy"
   ]
  },
  {
   "cell_type": "code",
   "execution_count": 3,
   "metadata": {},
   "outputs": [],
   "source": [
    "def hashing(obbject, qq, ww, mmod):\n",
    "    obbbject.q= qq\n",
    "    obbject.w = ww\n",
    "    obbject.mod= modd\n",
    "    \n",
    "def hashingCompute(obbject, e):\n",
    "    return(obbject.q*e + obbject.w)% obbject.mod\n",
    "\n",
    "    \n",
    "    "
   ]
  },
  {
   "cell_type": "markdown",
   "metadata": {
    "collapsed": true
   },
   "source": [
    "###SAMPLING TASK### \n"
   ]
  },
  {
   "cell_type": "code",
   "execution_count": 5,
   "metadata": {},
   "outputs": [],
   "source": [
    "mappingtoIP = dict()\n",
    "adressList = []\n",
    "\n",
    "with open(\"Data\\capture20110816-2.pcap.netflow.labeled\") as data:\n",
    "    reader = csv.reader(data, delimiter=\" \")\n",
    "    for a, line in enumerate(reader):\n",
    "        if a < 1:\n",
    "            continue\n",
    "            \n",
    "        splitting = line[1].split(\"\\t\") \n",
    "        for b, c in enumerate(splitting):\n",
    "            if c == \"->\":\n",
    "                ip = splitting[b+1].split(\":\")[0]\n",
    "                \n",
    "                if(ip!= \"ff02\") and (ip!= \"Broadcast\"):\n",
    "                    adressList.append(ip)\n",
    "                    \n",
    "                #print(ip) \n",
    "          \n",
    "        \n",
    "maximumId = 0 \n",
    "\n",
    "##TO BE CONTINUED, DEZE CODE, MAAK IK MORGEN VERDER AF. YORICK KAN JIJ NAAR DE VOLGENDE EXERCISE KIJKEN?\n",
    "                \n",
    "            \n"
   ]
  },
  {
   "cell_type": "code",
   "execution_count": null,
   "metadata": {},
   "outputs": [],
   "source": []
  },
  {
   "cell_type": "code",
   "execution_count": null,
   "metadata": {},
   "outputs": [],
   "source": []
  },
  {
   "cell_type": "code",
   "execution_count": null,
   "metadata": {},
   "outputs": [],
   "source": []
  }
 ],
 "metadata": {
  "kernelspec": {
   "display_name": "Python 3",
   "language": "python",
   "name": "python3"
  },
  "language_info": {
   "codemirror_mode": {
    "name": "ipython",
    "version": 3
   },
   "file_extension": ".py",
   "mimetype": "text/x-python",
   "name": "python",
   "nbconvert_exporter": "python",
   "pygments_lexer": "ipython3",
   "version": "3.6.4"
  }
 },
 "nbformat": 4,
 "nbformat_minor": 1
}
